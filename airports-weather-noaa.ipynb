{
 "cells": [
  {
   "cell_type": "code",
   "execution_count": 1,
   "metadata": {},
   "outputs": [],
   "source": [
    "import requests\n",
    "import json"
   ]
  },
  {
   "cell_type": "code",
   "execution_count": 2,
   "metadata": {},
   "outputs": [],
   "source": [
    "def getWeather(icao_code):\n",
    "    ret = requests.get('https://aw.stephenorjames.com/api/retrieve/report/%s' % icao_code)\n",
    "    data = json.loads(ret.text)\n",
    "    return data"
   ]
  },
  {
   "cell_type": "code",
   "execution_count": 3,
   "metadata": {},
   "outputs": [],
   "source": [
    "# 天津滨海国际机场：ZBTJ\n",
    "data = getWeather('ZBTJ')"
   ]
  },
  {
   "cell_type": "code",
   "execution_count": 4,
   "metadata": {},
   "outputs": [
    {
     "data": {
      "text/plain": [
       "{'_end': {'raw': 'NOSIG'},\n",
       " 'location': {'identifier': 'ZBTJ', 'raw': 'ZBTJ'},\n",
       " 'modifier': None,\n",
       " 'pressure': {'indicator': 'Q', 'raw': 'Q1005', 'value': 1005},\n",
       " 'raw': 'ZBTJ 240830Z 02002MPS 320V100 9999 SCT026 31/15 Q1005 NOSIG',\n",
       " 'remarks': None,\n",
       " 'runway_visual_range': None,\n",
       " 'sky_conditions': [{'cumulonimbus': False,\n",
       "   'height': 2600,\n",
       "   'raw': 'SCT026',\n",
       "   'towering_cumulus': False,\n",
       "   'type': 'SCT'}],\n",
       " 'temperature': {'dew_point': 15, 'raw': '31/15', 'temperature': 31},\n",
       " 'time': {'day': 24,\n",
       "  'hour': 8,\n",
       "  'minute': 30,\n",
       "  'raw': '240830Z',\n",
       "  'timezone': 'Z'},\n",
       " 'type': None,\n",
       " 'visibility': {'cavok': None,\n",
       "  'distance': 9999,\n",
       "  'greater_than': False,\n",
       "  'less_than': False,\n",
       "  'raw': '9999',\n",
       "  'unit': 'm'},\n",
       " 'weather_groups': None,\n",
       " 'wind': {'direction': 20,\n",
       "  'gusts': None,\n",
       "  'raw': '02002MPS 320V100',\n",
       "  'speed': 2,\n",
       "  'unit': 'MPS',\n",
       "  'variable': [320, 100]}}"
      ]
     },
     "execution_count": 4,
     "metadata": {},
     "output_type": "execute_result"
    }
   ],
   "source": [
    "data"
   ]
  },
  {
   "cell_type": "code",
   "execution_count": null,
   "metadata": {},
   "outputs": [],
   "source": []
  }
 ],
 "metadata": {
  "kernelspec": {
   "display_name": "Python 3",
   "language": "python",
   "name": "python3"
  },
  "language_info": {
   "codemirror_mode": {
    "name": "ipython",
    "version": 3
   },
   "file_extension": ".py",
   "mimetype": "text/x-python",
   "name": "python",
   "nbconvert_exporter": "python",
   "pygments_lexer": "ipython3",
   "version": "3.6.5"
  }
 },
 "nbformat": 4,
 "nbformat_minor": 2
}
